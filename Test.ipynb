{
 "cells": [
  {
   "cell_type": "code",
   "execution_count": null,
   "id": "10b2ea3a",
   "metadata": {},
   "outputs": [],
   "source": [
    "from qiskit import QuantumRegister, ClassicalRegister\n",
    "from qiskit import QuantumCircuit, execute, BasicAer\n",
    "import matplotlib.pyplot as plt\n",
    "import numpy as np\n",
    "\n",
    "q= QuantumRegister(3)\n",
    "c = ClassicalRegister(3)\n",
    "qc = QuantumCircuit(3,3)\n",
    "\n",
    "qc.x(0)\n",
    "qc.x(2)\n",
    "qc.barrier()\n",
    "\n",
    "#Alice basis\n",
    "qc.h(0)\n",
    "qc.barrier()\n",
    "\n",
    "#Bob's basis\n",
    "qc.h(0) \n",
    "qc.h(2) \n",
    "\n",
    "qc.measure(0,0,basis='Ensemble',add_param='X')\n",
    "backend = BasicAer.get_backend('dm_simulator')\n",
    "options3 = {\n",
    "    'plot': True\n",
    "}\n",
    "run3 = execute(qc,backend,**options3)\n",
    "result3 = run3.result()\n",
    "result3['results'][0]['data']['ensemble_probability']"
   ]
  }
 ],
 "metadata": {
  "kernelspec": {
   "display_name": "Python 3 (ipykernel)",
   "language": "python",
   "name": "python3"
  },
  "language_info": {
   "codemirror_mode": {
    "name": "ipython",
    "version": 3
   },
   "file_extension": ".py",
   "mimetype": "text/x-python",
   "name": "python",
   "nbconvert_exporter": "python",
   "pygments_lexer": "ipython3",
   "version": "3.7.12"
  }
 },
 "nbformat": 4,
 "nbformat_minor": 5
}
